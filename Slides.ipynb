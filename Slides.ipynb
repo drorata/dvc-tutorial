{
 "cells": [
  {
   "cell_type": "markdown",
   "metadata": {
    "slideshow": {
     "slide_type": "slide"
    }
   },
   "source": [
    "# DATA AND PIPELINES USING DVC\n",
    "\n",
    "Dror Atariah @ Sharecare Berlin"
   ]
  },
  {
   "cell_type": "markdown",
   "metadata": {
    "slideshow": {
     "slide_type": "slide"
    }
   },
   "source": [
    "## Outline\n",
    "\n",
    "* What are we trying to solve?\n",
    "* Pillars of reproducibility\n",
    "* Walk through the tutorial"
   ]
  },
  {
   "cell_type": "markdown",
   "metadata": {
    "slideshow": {
     "slide_type": "slide"
    }
   },
   "source": [
    "# What's the problem again?"
   ]
  },
  {
   "cell_type": "markdown",
   "metadata": {
    "slideshow": {
     "slide_type": "subslide"
    }
   },
   "source": [
    "### How can we guarantee reproducibility?"
   ]
  },
  {
   "cell_type": "markdown",
   "metadata": {
    "slideshow": {
     "slide_type": "subslide"
    }
   },
   "source": [
    "![bla bla](./phone-in-toilet.png)"
   ]
  },
  {
   "cell_type": "markdown",
   "metadata": {
    "slideshow": {
     "slide_type": "subslide"
    }
   },
   "source": [
    "* Collect data\n",
    "* Train a model\n",
    "* Test it\n",
    "* <span class=\"fragment\">Now, do it again please...</span>"
   ]
  },
  {
   "cell_type": "markdown",
   "metadata": {
    "slideshow": {
     "slide_type": "slide"
    }
   },
   "source": [
    "## Three Pillars of Reproducibility"
   ]
  },
  {
   "cell_type": "markdown",
   "metadata": {
    "slideshow": {
     "slide_type": "subslide"
    }
   },
   "source": [
    "* Code <span class=\"fragment\">👍🏻</span>"
   ]
  },
  {
   "cell_type": "markdown",
   "metadata": {
    "slideshow": {
     "slide_type": "fragment"
    }
   },
   "source": [
    "* Environment <span class=\"fragment\">👍🏻</span>"
   ]
  },
  {
   "cell_type": "markdown",
   "metadata": {
    "slideshow": {
     "slide_type": "fragment"
    }
   },
   "source": [
    "* Data... <span class=\"fragment\">😳</span>"
   ]
  },
  {
   "cell_type": "markdown",
   "metadata": {
    "slideshow": {
     "slide_type": "slide"
    }
   },
   "source": [
    "## Say hello to Data Version Control\n",
    "\n",
    "https://dvc.org/"
   ]
  },
  {
   "cell_type": "markdown",
   "metadata": {
    "slideshow": {
     "slide_type": "subslide"
    }
   },
   "source": [
    "### Main use cases\n",
    "\n",
    "* Version control models and data\n",
    "* Track and reproduce experiments\n",
    "* Share DS/ML work"
   ]
  },
  {
   "cell_type": "markdown",
   "metadata": {
    "slideshow": {
     "slide_type": "subslide"
    }
   },
   "source": [
    "![dvc overview](./dvc-overview.png)"
   ]
  },
  {
   "cell_type": "markdown",
   "metadata": {
    "slideshow": {
     "slide_type": "slide"
    }
   },
   "source": [
    "## Tutorial\n",
    "\n",
    "[Deep dive](https://dvc.org/doc/tutorials/deep)"
   ]
  },
  {
   "cell_type": "markdown",
   "metadata": {
    "slideshow": {
     "slide_type": "slide"
    }
   },
   "source": [
    "## Setting up"
   ]
  },
  {
   "cell_type": "markdown",
   "metadata": {
    "slideshow": {
     "slide_type": "subslide"
    }
   },
   "source": [
    "Fetch the code:\n",
    "\n",
    "```bash\n",
    "mkdir classify\n",
    "cd classify\n",
    "git init\n",
    "wget https://github.com/drorata/dvc-doc-tutorial/archive/v3.0.zip\n",
    "unzip -j v3.0.zip -d code && rm -f v3.0.zip\n",
    "git add code\n",
    "echo code/__pycache__/ >> .gitignore && git add .gitignore\n",
    "git commit -m \"download code\"\n",
    "```"
   ]
  },
  {
   "cell_type": "markdown",
   "metadata": {
    "slideshow": {
     "slide_type": "fragment"
    }
   },
   "source": [
    "Start a virtual environment!"
   ]
  },
  {
   "cell_type": "markdown",
   "metadata": {
    "slideshow": {
     "slide_type": "subslide"
    }
   },
   "source": [
    "Initialize DVC\n",
    "\n",
    "```bash\n",
    "dvc init\n",
    "ls -a .dvc\n",
    "git status -s\n",
    "cat .dvc/.gitignore\n",
    "git commit -am \"init DVC\"\n",
    "```"
   ]
  },
  {
   "cell_type": "markdown",
   "metadata": {
    "slideshow": {
     "slide_type": "slide"
    }
   },
   "source": [
    "## Fetch data\n",
    "\n",
    "```bash\n",
    "mkdir data\n",
    "wget -P data https://data.dvc.org/tutorial/nlp/100K/Posts.xml.zip\n",
    "```"
   ]
  },
  {
   "cell_type": "markdown",
   "metadata": {
    "slideshow": {
     "slide_type": "subslide"
    }
   },
   "source": [
    "```bash\n",
    "# Track data using DVC\n",
    "dvc add data/Posts.xml.zip\n",
    "```"
   ]
  },
  {
   "cell_type": "markdown",
   "metadata": {
    "slideshow": {
     "slide_type": "subslide"
    }
   },
   "source": [
    "What's in there?\n",
    "\n",
    "```bash\n",
    "cat data/Posts.xml.zip.dvc\n",
    "\n",
    "ls -l .dvc/cache/\n",
    "```"
   ]
  },
  {
   "cell_type": "markdown",
   "metadata": {
    "slideshow": {
     "slide_type": "subslide"
    }
   },
   "source": [
    "### Remarks\n",
    "\n",
    "* Linking from cache to workspace ⚠️\n",
    "* Import files from remote locations"
   ]
  },
  {
   "cell_type": "markdown",
   "metadata": {
    "slideshow": {
     "slide_type": "slide"
    }
   },
   "source": [
    "## Let's do some processing"
   ]
  },
  {
   "cell_type": "markdown",
   "metadata": {
    "slideshow": {
     "slide_type": "subslide"
    }
   },
   "source": [
    "### Unzip the data\n",
    "\n",
    "```bash\n",
    "dvc run -d data/Posts.xml.zip -o data/Posts.xml \\\n",
    "    unzip data/Posts.xml.zip -d data/\n",
    "```"
   ]
  },
  {
   "cell_type": "markdown",
   "metadata": {
    "slideshow": {
     "slide_type": "fragment"
    }
   },
   "source": [
    "**What just happened?**\n",
    "\n",
    "```bash\n",
    "cat Posts.xml.dvc\n",
    "```"
   ]
  },
  {
   "cell_type": "markdown",
   "metadata": {
    "slideshow": {
     "slide_type": "subslide"
    }
   },
   "source": [
    "### More steps please\n",
    "\n",
    "```bash\n",
    "# Convert XML to TSV\n",
    "dvc run -d data/Posts.xml -d code/xml_to_tsv.py -d code/conf.py \\\n",
    "    -o data/Posts.tsv \\\n",
    "    python code/xml_to_tsv.py\n",
    "    \n",
    "# Get the top 20k lines\n",
    "dvc run -d data/Posts.tsv -d code/table_head.sh -o data/Posts_head.tsv \\\n",
    "    \"bash code/table_head.sh data/Posts.tsv 20000 > data/Posts_head.tsv\"\n",
    "```"
   ]
  },
  {
   "cell_type": "markdown",
   "metadata": {
    "slideshow": {
     "slide_type": "subslide"
    }
   },
   "source": [
    "```bash\n",
    "# Split to train-test sets\n",
    "dvc run -d data/Posts_head.tsv -d code/split_train_test.py \\\n",
    "    -d code/conf.py \\\n",
    "    -o data/Posts-test.tsv -o data/Posts-train.tsv \\\n",
    "    python code/split_train_test.py 0.33 20180319\n",
    "```"
   ]
  },
  {
   "cell_type": "markdown",
   "metadata": {
    "slideshow": {
     "slide_type": "subslide"
    }
   },
   "source": [
    "### Train, test...\n",
    "\n",
    "```bash\n",
    "dvc run -d code/featurization.py -d code/conf.py \\\n",
    "    -d data/Posts-train.tsv -d data/Posts-test.tsv \\\n",
    "    -o data/matrix-train.p -o data/matrix-test.p \\\n",
    "    python code/featurization.py\n",
    "    \n",
    "dvc run -d data/matrix-train.p -d code/train_model.py \\\n",
    "    -d code/conf.py -o data/model.p \\\n",
    "    python code/train_model.py 20180319\n",
    "```"
   ]
  },
  {
   "cell_type": "markdown",
   "metadata": {
    "slideshow": {
     "slide_type": "subslide"
    }
   },
   "source": [
    "### and evaluate\n",
    "\n",
    "```bash\n",
    "dvc run -d data/model.p -d data/matrix-test.p \\\n",
    "    -d code/evaluate.py -d code/conf.py -m data/eval.txt \\\n",
    "    -f Dvcfile \\\n",
    "    python code/evaluate.py\n",
    "```"
   ]
  },
  {
   "cell_type": "markdown",
   "metadata": {
    "slideshow": {
     "slide_type": "fragment"
    }
   },
   "source": [
    "**Remarks**\n",
    "* `-f` and `Dvcfile`\n",
    "* `-M` and metric:\n",
    "    * `cat data/eval.txt` and\n",
    "    * `dvc metrics show`"
   ]
  },
  {
   "cell_type": "markdown",
   "metadata": {
    "slideshow": {
     "slide_type": "slide"
    }
   },
   "source": [
    "## To DAG or not to DAG?\n",
    "\n",
    "```bash\n",
    "dvc pipeline show --ascii\n",
    "```"
   ]
  },
  {
   "cell_type": "markdown",
   "metadata": {
    "slideshow": {
     "slide_type": "slide"
    }
   },
   "source": [
    "## Tweaking the pipeline"
   ]
  },
  {
   "cell_type": "markdown",
   "metadata": {
    "slideshow": {
     "slide_type": "subslide"
    }
   },
   "source": [
    "Try out: `dvc repro`"
   ]
  },
  {
   "cell_type": "markdown",
   "metadata": {
    "slideshow": {
     "slide_type": "subslide"
    }
   },
   "source": [
    "### Tweak features engineering\n",
    "\n",
    "```python\n",
    "# Start a new branch\n",
    "# git switch -c bigrams\n",
    "\n",
    "# Edit code/featurization.py @ L50\n",
    "bag_of_words = CountVectorizer(stop_words='english',\n",
    "                               max_features=6000,\n",
    "                               ngram_range=(1, 2))\n",
    "```"
   ]
  },
  {
   "cell_type": "markdown",
   "metadata": {
    "slideshow": {
     "slide_type": "fragment"
    }
   },
   "source": [
    "```\n",
    "dvc repro\n",
    "git add + commit\n",
    "```"
   ]
  },
  {
   "cell_type": "markdown",
   "metadata": {
    "slideshow": {
     "slide_type": "subslide"
    }
   },
   "source": [
    "Commit changes to branch and:\n",
    "\n",
    "```\n",
    "dvc metrics show -a\n",
    "```"
   ]
  },
  {
   "cell_type": "markdown",
   "metadata": {
    "slideshow": {
     "slide_type": "subslide"
    }
   },
   "source": [
    "Let's try something else.\n",
    "\n",
    "But first, switch back to `master`:\n",
    "\n",
    "```\n",
    "git switch master\n",
    "```\n",
    "\n",
    "**How to update the data???**"
   ]
  },
  {
   "cell_type": "markdown",
   "metadata": {
    "slideshow": {
     "slide_type": "subslide"
    }
   },
   "source": [
    "```\n",
    "dvc checkout\n",
    "```"
   ]
  },
  {
   "cell_type": "markdown",
   "metadata": {
    "slideshow": {
     "slide_type": "subslide"
    }
   },
   "source": [
    "```\n",
    "dvc repro\n",
    "```"
   ]
  },
  {
   "cell_type": "markdown",
   "metadata": {
    "slideshow": {
     "slide_type": "subslide"
    }
   },
   "source": [
    "### Tweak model"
   ]
  },
  {
   "cell_type": "markdown",
   "metadata": {
    "slideshow": {
     "slide_type": "fragment"
    }
   },
   "source": [
    "```\n",
    "git switch -c tuning\n",
    "```"
   ]
  },
  {
   "cell_type": "markdown",
   "metadata": {
    "slideshow": {
     "slide_type": "fragment"
    }
   },
   "source": [
    "\n",
    "... edit:\n",
    "\n",
    "```python\n",
    "# code/train_model.py @ L27\n",
    "clf = RandomForestClassifier(n_estimators=700,\n",
    "                             n_jobs=6, random_state=seed)\n",
    "```"
   ]
  },
  {
   "cell_type": "markdown",
   "metadata": {
    "slideshow": {
     "slide_type": "fragment"
    }
   },
   "source": [
    "... run\n",
    "\n",
    "```\n",
    "dvc repro\n",
    "```"
   ]
  },
  {
   "cell_type": "markdown",
   "metadata": {
    "slideshow": {
     "slide_type": "fragment"
    }
   },
   "source": [
    "Commit and review!"
   ]
  },
  {
   "cell_type": "markdown",
   "metadata": {
    "slideshow": {
     "slide_type": "subslide"
    }
   },
   "source": [
    "### Combine changes\n",
    "\n",
    "Let's combine the two and see what happens..."
   ]
  },
  {
   "cell_type": "markdown",
   "metadata": {
    "slideshow": {
     "slide_type": "slide"
    }
   },
   "source": [
    "## Sharing data/models\n",
    "\n",
    "Try:\n",
    "\n",
    "```\n",
    "dvc remote add -d upstream s3://feingoldtech-research-dror/dvc-demo\n",
    "git status -s\n",
    "```"
   ]
  },
  {
   "cell_type": "markdown",
   "metadata": {
    "slideshow": {
     "slide_type": "subslide"
    }
   },
   "source": [
    "* Next you can use `dvc pull/push`\n",
    "* Others can clone the repo and pull the data"
   ]
  },
  {
   "cell_type": "markdown",
   "metadata": {
    "slideshow": {
     "slide_type": "slide"
    }
   },
   "source": [
    "![Thanks](./thank-you-french-fries.jpg)"
   ]
  }
 ],
 "metadata": {
  "celltoolbar": "Slideshow",
  "kernelspec": {
   "display_name": "Python 3",
   "language": "python",
   "name": "python3"
  },
  "language_info": {
   "codemirror_mode": {
    "name": "ipython",
    "version": 3
   },
   "file_extension": ".py",
   "mimetype": "text/x-python",
   "name": "python",
   "nbconvert_exporter": "python",
   "pygments_lexer": "ipython3",
   "version": "3.7.3"
  }
 },
 "nbformat": 4,
 "nbformat_minor": 2
}
